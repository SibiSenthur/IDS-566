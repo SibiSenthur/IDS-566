{
 "cells": [
  {
   "cell_type": "markdown",
   "metadata": {},
   "source": [
    "# Text classification with machine learning.\n",
    "\n",
    "## Preprocessing steps:\n",
    "\n",
    "Step 1. Loading the training and the validation sets of 20 Newsgroups:"
   ]
  },
  {
   "cell_type": "code",
   "execution_count": 2,
   "metadata": {},
   "outputs": [
    {
     "name": "stdout",
     "output_type": "stream",
     "text": [
      "Training size 1741\n",
      "Training targets: ['comp.graphics', 'sci.space', 'talk.politics.mideast']\n",
      "Validation size 1159\n",
      "Validation targets: ['comp.graphics', 'sci.space', 'talk.politics.mideast']\n"
     ]
    }
   ],
   "source": [
    "from sklearn.datasets import fetch_20newsgroups\n",
    "\n",
    "cats = ['sci.space', 'talk.politics.mideast', 'comp.graphics']\n",
    "newsgroups_train = fetch_20newsgroups(subset='train', categories=cats, remove=('headers', 'footers', 'quotes'), shuffle = False)\n",
    "train_data = newsgroups_train.data\n",
    "y_train = newsgroups_train.target\n",
    "\n",
    "newsgroups_valid = fetch_20newsgroups(subset='test', categories=cats, remove=('headers', 'footers', 'quotes'), shuffle = False)\n",
    "valid_data = newsgroups_valid.data\n",
    "y_valid = newsgroups_valid.target\n",
    "\n",
    "print(\"Training size %d\" % len(train_data))\n",
    "print(\"Training targets: %s\" % newsgroups_train.target_names)\n",
    "\n",
    "print(\"Validation size %d\" % len(valid_data))\n",
    "print(\"Validation targets: %s\" % newsgroups_valid.target_names)\n"
   ]
  },
  {
   "cell_type": "markdown",
   "metadata": {},
   "source": [
    "Step 2. Vectorizing the training set:"
   ]
  },
  {
   "cell_type": "code",
   "execution_count": 6,
   "metadata": {
    "scrolled": true
   },
   "outputs": [
    {
     "name": "stdout",
     "output_type": "stream",
     "text": [
      "(1157, 4900) (1157,)\n"
     ]
    }
   ],
   "source": [
    "from sklearn.feature_extraction.text import CountVectorizer\n",
    "\n",
    "count = CountVectorizer(binary = False, min_df = 5)\n",
    "\n",
    "X_train = count.fit_transform(train_data)\n",
    "print(X_train.shape, y_train.shape)\n"
   ]
  },
  {
   "cell_type": "markdown",
   "metadata": {},
   "source": [
    "Step 3. Transforming the testing set:"
   ]
  },
  {
   "cell_type": "code",
   "execution_count": 48,
   "metadata": {},
   "outputs": [
    {
     "name": "stdout",
     "output_type": "stream",
     "text": [
      "(1159, 5899) (1159,)\n"
     ]
    }
   ],
   "source": [
    "X_valid = count.transform(valid_data)\n",
    "\n",
    "print(X_valid.shape, y_valid.shape)"
   ]
  },
  {
   "cell_type": "markdown",
   "metadata": {},
   "source": [
    "## Training k-Nearest Neigbors (k-NN)\n",
    "\n",
    "Step 1. Fitting the classifier:"
   ]
  },
  {
   "cell_type": "code",
   "execution_count": 50,
   "metadata": {},
   "outputs": [
    {
     "data": {
      "text/plain": [
       "KNeighborsClassifier(algorithm='auto', leaf_size=30, metric='minkowski',\n",
       "           metric_params=None, n_jobs=1, n_neighbors=3, p=2,\n",
       "           weights='uniform')"
      ]
     },
     "execution_count": 50,
     "metadata": {},
     "output_type": "execute_result"
    }
   ],
   "source": [
    "from sklearn.neighbors import KNeighborsClassifier\n",
    "\n",
    "KNN = KNeighborsClassifier(3)\n",
    "KNN.fit(X_train, y_train)"
   ]
  },
  {
   "cell_type": "markdown",
   "metadata": {},
   "source": [
    "Step 2. Predicitng the validation set:"
   ]
  },
  {
   "cell_type": "code",
   "execution_count": 51,
   "metadata": {},
   "outputs": [
    {
     "name": "stdout",
     "output_type": "stream",
     "text": [
      "(1159,)\n"
     ]
    }
   ],
   "source": [
    "p_valid = KNN.predict(X_valid)\n",
    "print(p_valid.shape)"
   ]
  },
  {
   "cell_type": "markdown",
   "metadata": {},
   "source": [
    "Step3. Measuring the accuracy of the validation set:"
   ]
  },
  {
   "cell_type": "code",
   "execution_count": 52,
   "metadata": {},
   "outputs": [
    {
     "data": {
      "text/plain": [
       "0.54788610871440901"
      ]
     },
     "execution_count": 52,
     "metadata": {},
     "output_type": "execute_result"
    }
   ],
   "source": [
    "from sklearn.metrics import accuracy_score\n",
    "\n",
    "accuracy_score(y_valid, p_valid)"
   ]
  },
  {
   "cell_type": "markdown",
   "metadata": {},
   "source": [
    "Step 4. Tuning parameters and retest:"
   ]
  },
  {
   "cell_type": "code",
   "execution_count": 7,
   "metadata": {},
   "outputs": [
    {
     "data": {
      "image/png": "[encoded data removed]",
      "text/plain": [
       "<matplotlib.figure.Figure at 0x266a526a8d0>"
      ]
     },
     "metadata": {},
     "output_type": "display_data"
    }
   ],
   "source": [
    "import matplotlib\n",
    "import matplotlib.pyplot as plt\n",
    "%matplotlib inline\n",
    "\n",
    "Accuracy = []\n",
    "\n",
    "for k in range(1, 101):\n",
    "    KNN = KNeighborsClassifier(k)\n",
    "    KNN.fit(X_train, y_train)\n",
    "    p_valid = KNN.predict(X_valid)\n",
    "    Accuracy.append(accuracy_score(y_valid, p_valid))\n",
    "    \n",
    "plt.title(\"k-Nearest Neighbors\")\n",
    "plt.plot(range(1, 101), Accuracy)\n",
    "plt.xlabel('K')\n",
    "plt.ylabel('Accuracy')\n",
    "plt.show()"
   ]
  },
  {
   "cell_type": "markdown",
   "metadata": {},
   "source": [
    "## Training Naive Bayes classifier\n",
    "\n",
    "Using BernoulliNB with binary vectorization:"
   ]
  },
  {
   "cell_type": "code",
   "execution_count": 56,
   "metadata": {},
   "outputs": [
    {
     "name": "stdout",
     "output_type": "stream",
     "text": [
      "0.831751509922\n"
     ]
    }
   ],
   "source": [
    "from sklearn.naive_bayes import BernoulliNB, MultinomialNB, GaussianNB\n",
    "from sklearn.feature_extraction.text import CountVectorizer, TfidfVectorizer\n",
    "\n",
    "count = CountVectorizer(binary = True, min_df = 5, stop_words = 'english')\n",
    "X_train = count.fit_transform(train_data)\n",
    "X_valid = count.transform(valid_data)\n",
    "\n",
    "BNB = BernoulliNB(1e-10)\n",
    "BNB.fit(X_train, y_train)\n",
    "p_valid = BNB.predict(X_valid)\n",
    "print(accuracy_score(y_valid, p_valid))\n",
    "\n"
   ]
  },
  {
   "cell_type": "markdown",
   "metadata": {},
   "source": [
    "Using MultinomialNB with count vectorization:"
   ]
  },
  {
   "cell_type": "code",
   "execution_count": 60,
   "metadata": {},
   "outputs": [
    {
     "name": "stdout",
     "output_type": "stream",
     "text": [
      "0.903364969802\n"
     ]
    }
   ],
   "source": [
    "count = CountVectorizer(min_df = 1, stop_words = 'english')\n",
    "X_train = count.fit_transform(train_data)\n",
    "X_valid = count.transform(valid_data)\n",
    "\n",
    "MNB = MultinomialNB(1e-10)\n",
    "MNB.fit(X_train, y_train)\n",
    "p_valid = MNB.predict(X_valid)\n",
    "print(accuracy_score(y_valid, p_valid))\n",
    "\n"
   ]
  },
  {
   "cell_type": "markdown",
   "metadata": {},
   "source": [
    "Using GaussianNB with TF-IDF vectorization:"
   ]
  },
  {
   "cell_type": "code",
   "execution_count": 61,
   "metadata": {},
   "outputs": [
    {
     "name": "stdout",
     "output_type": "stream",
     "text": [
      "0.858498705781\n"
     ]
    }
   ],
   "source": [
    "tfidf = TfidfVectorizer(min_df = 2, norm = 'l1', stop_words = 'english')\n",
    "X_train = tfidf.fit_transform(train_data)\n",
    "X_valid = tfidf.transform(valid_data)\n",
    "\n",
    "GNB = GaussianNB()\n",
    "GNB.fit(X_train.toarray(), y_train)\n",
    "p_valid = GNB.predict(X_valid.toarray())\n",
    "print(accuracy_score(y_valid, p_valid))\n",
    "\n"
   ]
  },
  {
   "cell_type": "markdown",
   "metadata": {},
   "source": [
    "## Feature importance per class:"
   ]
  },
  {
   "cell_type": "code",
   "execution_count": 62,
   "metadata": {},
   "outputs": [
    {
     "name": "stdout",
     "output_type": "stream",
     "text": [
      "comp.graphics: image, graphics, edu, jpeg, file, use, data, files, software, images, program, ftp, available, format, color, like, know, pub, gif, does\n",
      "\n",
      "sci.space: space, nasa, launch, earth, like, data, orbit, time, shuttle, just, satellite, lunar, moon, new, program, don, year, people, mission, use\n",
      "\n",
      "talk.politics.mideast: people, armenian, armenians, said, israel, turkish, jews, know, israeli, don, just, like, did, say, turkey, time, didn, government, think, armenia\n",
      "\n"
     ]
    }
   ],
   "source": [
    "import numpy as np \n",
    "\n",
    "vocab = np.array(count.get_feature_names())\n",
    "order = MNB.coef_.argsort(1)\n",
    "\n",
    "for i, target in enumerate(newsgroups_train.target_names):\n",
    "    print(\"%s: %s\\n\" % (target, \", \".join(vocab[order[i][-20:][::-1]])))\n"
   ]
  },
  {
   "cell_type": "markdown",
   "metadata": {},
   "source": [
    "# Using Logistic Regression"
   ]
  },
  {
   "cell_type": "code",
   "execution_count": 79,
   "metadata": {},
   "outputs": [
    {
     "name": "stdout",
     "output_type": "stream",
     "text": [
      "0.902502157032\n"
     ]
    }
   ],
   "source": [
    "from sklearn.linear_model import LogisticRegression\n",
    "\n",
    "count = CountVectorizer(min_df = 1, stop_words = 'english', binary = True)\n",
    "X_train = count.fit_transform(train_data)\n",
    "X_valid = count.transform(valid_data)\n",
    "\n",
    "LR = LogisticRegression(C = .25)\n",
    "LR.fit(X_train, y_train)\n",
    "p_valid = LR.predict(X_valid)\n",
    "print(accuracy_score(y_valid, p_valid))"
   ]
  },
  {
   "cell_type": "markdown",
   "metadata": {},
   "source": [
    "## Top features:"
   ]
  },
  {
   "cell_type": "code",
   "execution_count": 68,
   "metadata": {},
   "outputs": [
    {
     "name": "stdout",
     "output_type": "stream",
     "text": [
      "comp.graphics: graphics, file, image, hi, looking, computer, 3d, ftp, ve, version, format, images, using, thanks, works, card, files, number, pc, need\n",
      "\n",
      "sci.space: space, orbit, nasa, moon, launch, spacecraft, shuttle, earth, solar, idea, flight, long, thought, things, known, remember, mars, actually, science, sci\n",
      "\n",
      "talk.politics.mideast: israel, israeli, jews, mr, arab, people, turkish, jewish, loser, serdar, peace, lebanon, say, arabs, kill, turkey, getting, did, argic, retarded\n",
      "\n"
     ]
    }
   ],
   "source": [
    "order = LR.coef_.argsort(1)\n",
    "\n",
    "for i, target in enumerate(newsgroups_train.target_names):\n",
    "    print(\"%s: %s\\n\" % (target, \", \".join(vocab[order[i][-20:][::-1]])))\n"
   ]
  },
  {
   "cell_type": "markdown",
   "metadata": {},
   "source": [
    "## Effect of L2 regularization:"
   ]
  },
  {
   "cell_type": "code",
   "execution_count": 75,
   "metadata": {},
   "outputs": [
    {
     "data": {
      "image/png": "[encoded data removed]",
      "text/plain": [
       "<matplotlib.figure.Figure at 0x266a58ba7f0>"
      ]
     },
     "metadata": {},
     "output_type": "display_data"
    }
   ],
   "source": [
    "Accuracy = []\n",
    "C = np.arange(.05, 1.05, .05)\n",
    "\n",
    "for c in C:\n",
    "    LR = LogisticRegression(C = c)\n",
    "    LR.fit(X_train, y_train)\n",
    "    p_valid = LR.predict(X_valid)\n",
    "    Accuracy.append(accuracy_score(y_valid, p_valid))\n",
    "\n",
    "plt.title(\"Logistic regression with L2 regularization\")\n",
    "plt.scatter(C, Accuracy)\n",
    "plt.xlabel('C')\n",
    "plt.ylabel('Accuracy')\n",
    "plt.xlim(0, max(C))\n",
    "plt.show()"
   ]
  },
  {
   "cell_type": "markdown",
   "metadata": {},
   "source": [
    "## Effect of L1 regularization:"
   ]
  },
  {
   "cell_type": "code",
   "execution_count": 76,
   "metadata": {},
   "outputs": [
    {
     "data": {
      "image/png": "[encoded data removed]",
      "text/plain": [
       "<matplotlib.figure.Figure at 0x266aa7167f0>"
      ]
     },
     "metadata": {},
     "output_type": "display_data"
    }
   ],
   "source": [
    "Accuracy = []\n",
    "C = np.arange(.1, 2.1, .1)\n",
    "\n",
    "for c in C:\n",
    "    LR = LogisticRegression(C = c, penalty = 'l1')\n",
    "    LR.fit(X_train, y_train)\n",
    "    p_valid = LR.predict(X_valid)\n",
    "    Accuracy.append(accuracy_score(y_valid, p_valid))\n",
    "\n",
    "plt.title(\"Logistic regression with L1 regularization\")\n",
    "plt.scatter(C, Accuracy)\n",
    "plt.xlabel('C')\n",
    "plt.ylabel('Accuracy')\n",
    "plt.xlim(0, max(C))\n",
    "plt.show()"
   ]
  },
  {
   "cell_type": "markdown",
   "metadata": {},
   "source": [
    "## Decision boundry for binary logistic regression:"
   ]
  },
  {
   "cell_type": "code",
   "execution_count": 21,
   "metadata": {},
   "outputs": [],
   "source": [
    "cats = ['sci.space', 'talk.politics.mideast']\n",
    "newsgroups_train = fetch_20newsgroups(subset='train', categories=cats, remove=('headers', 'footers', 'quotes'), shuffle = False)\n",
    "train_data = newsgroups_train.data\n",
    "y_train = newsgroups_train.target\n",
    "\n",
    "newsgroups_valid = fetch_20newsgroups(subset='test', categories=cats, remove=('headers', 'footers', 'quotes'), shuffle = False)\n",
    "valid_data = newsgroups_valid.data\n",
    "y_valid = newsgroups_valid.target\n"
   ]
  },
  {
   "cell_type": "markdown",
   "metadata": {},
   "source": [
    "Train a binary logistic regression:"
   ]
  },
  {
   "cell_type": "code",
   "execution_count": 32,
   "metadata": {},
   "outputs": [
    {
     "name": "stdout",
     "output_type": "stream",
     "text": [
      "             precision    recall  f1-score   support\n",
      "\n",
      "          0       0.90      0.98      0.94       394\n",
      "          1       0.98      0.88      0.93       376\n",
      "\n",
      "avg / total       0.94      0.93      0.93       770\n",
      "\n"
     ]
    },
    {
     "data": {
      "text/plain": [
       "(1157, 4624)"
      ]
     },
     "execution_count": 32,
     "metadata": {},
     "output_type": "execute_result"
    }
   ],
   "source": [
    "from sklearn.linear_model import LogisticRegression\n",
    "from sklearn.metrics import accuracy_score, classification_report\n",
    "\n",
    "\n",
    "count = CountVectorizer(min_df = 5, stop_words = 'english', binary = False)\n",
    "X_train = count.fit_transform(train_data)\n",
    "X_valid = count.transform(valid_data)\n",
    "\n",
    "LR = LogisticRegression(C = .1)\n",
    "LR.fit(X_train, y_train)\n",
    "#p_valid = LR.predict(X_valid)\n",
    "p_valid_prob = LR.predict_proba(X_valid)\n",
    "p_valid = (p_valid_prob[:, 1] > .5).astype('i4')\n",
    "print(classification_report(y_valid, p_valid))\n",
    "X_train.shape"
   ]
  },
  {
   "cell_type": "markdown",
   "metadata": {},
   "source": [
    "Reduce dimension and create the grid:"
   ]
  },
  {
   "cell_type": "code",
   "execution_count": 86,
   "metadata": {
    "collapsed": true
   },
   "outputs": [],
   "source": [
    "from  sklearn.decomposition import PCA\n",
    "#Reduce dimension\n",
    "pca = PCA(2)\n",
    "X_train_2d = pca.fit_transform(X_train.toarray())\n",
    "\n",
    "xx, yy = np.mgrid[-5:5:.1, -5:5:.1]\n",
    "grid = np.c_[xx.ravel(), yy.ravel()]\n",
    "inverse_grid = pca.inverse_transform(grid)\n",
    "probs = LR.predict_proba(inverse_grid)[:, 1].reshape(xx.shape)\n"
   ]
  },
  {
   "cell_type": "markdown",
   "metadata": {},
   "source": [
    "Plot the decision boundry:"
   ]
  },
  {
   "cell_type": "code",
   "execution_count": 87,
   "metadata": {},
   "outputs": [
    {
     "data": {
      "image/png": "[encoded data removed]",
      "text/plain": [
       "<matplotlib.figure.Figure at 0x266a9d1beb8>"
      ]
     },
     "metadata": {},
     "output_type": "display_data"
    }
   ],
   "source": [
    "contour = plt.contourf(xx, yy, probs, 50, cmap=\"RdBu\", vmin=0, vmax=1)\n",
    "\n",
    "colors = 'rb'\n",
    "for i in range(len(newsgroups_train.target_names)):\n",
    "    target = newsgroups_train.target == i\n",
    "    plt.scatter(X_train_2d[target, 0], X_train_2d[target, 1], 10, c = colors[i], label = newsgroups_train.target_names[i])\n",
    "\n",
    "plt.title('20 Newsgroups')\n",
    "plt.xlim(-5, 5)\n",
    "plt.ylim(-5, 5)\n",
    "plt.legend(loc = 'upper right')\n",
    "plt.show()"
   ]
  },
  {
   "cell_type": "markdown",
   "metadata": {},
   "source": [
    "## Decision boundry for multi-class logistic regression:"
   ]
  },
  {
   "cell_type": "code",
   "execution_count": 88,
   "metadata": {
    "collapsed": true
   },
   "outputs": [],
   "source": [
    "cats = ['sci.space', 'talk.politics.mideast', 'comp.sys.mac.hardware']\n",
    "newsgroups_train = fetch_20newsgroups(subset='train', categories=cats, remove=('headers', 'footers', 'quotes'), shuffle = False)\n",
    "train_data = newsgroups_train.data\n",
    "y_train = newsgroups_train.target\n",
    "\n",
    "newsgroups_valid = fetch_20newsgroups(subset='test', categories=cats, remove=('headers', 'footers', 'quotes'), shuffle = False)\n",
    "valid_data = newsgroups_valid.data\n",
    "y_valid = newsgroups_valid.target\n"
   ]
  },
  {
   "cell_type": "markdown",
   "metadata": {},
   "source": [
    "Train logistic regression:"
   ]
  },
  {
   "cell_type": "code",
   "execution_count": 93,
   "metadata": {},
   "outputs": [
    {
     "name": "stdout",
     "output_type": "stream",
     "text": [
      "0.897835497835\n"
     ]
    }
   ],
   "source": [
    "count = CountVectorizer(min_df = 3, stop_words = 'english',binary = False)\n",
    "X_train = count.fit_transform(train_data)\n",
    "X_valid = count.transform(valid_data)\n",
    "\n",
    "LR = LogisticRegression(C = .05)\n",
    "LR.fit(X_train, y_train)\n",
    "p_valid = LR.predict(X_valid)\n",
    "print(accuracy_score(y_valid, p_valid))"
   ]
  },
  {
   "cell_type": "markdown",
   "metadata": {},
   "source": [
    "Reduce dimension:"
   ]
  },
  {
   "cell_type": "code",
   "execution_count": 94,
   "metadata": {
    "collapsed": true
   },
   "outputs": [],
   "source": [
    "from  sklearn.decomposition import PCA\n",
    "#Reduce dimension\n",
    "pca = PCA(2)\n",
    "X_train_2d = pca.fit_transform(X_train.toarray())"
   ]
  },
  {
   "cell_type": "markdown",
   "metadata": {},
   "source": [
    "Draw decision boundries:"
   ]
  },
  {
   "cell_type": "code",
   "execution_count": 99,
   "metadata": {},
   "outputs": [
    {
     "data": {
      "text/plain": [
       "array([[-2.  , -4.  ],\n",
       "       [-2.  , -3.95],\n",
       "       [-2.  , -3.9 ],\n",
       "       ..., \n",
       "       [ 4.95,  4.85],\n",
       "       [ 4.95,  4.9 ],\n",
       "       [ 4.95,  4.95]])"
      ]
     },
     "execution_count": 99,
     "metadata": {},
     "output_type": "execute_result"
    }
   ],
   "source": [
    "xx, yy = np.mgrid[-2:5:.05, -4:5:.05]\n",
    "grid = np.c_[xx.ravel(), yy.ravel()]\n",
    "\n",
    "grid"
   ]
  },
  {
   "cell_type": "code",
   "execution_count": 95,
   "metadata": {},
   "outputs": [
    {
     "data": {
      "image/png": "[encoded data removed]",
      "text/plain": [
       "<matplotlib.figure.Figure at 0x266a9cf90f0>"
      ]
     },
     "metadata": {},
     "output_type": "display_data"
    }
   ],
   "source": [
    "xx, yy = np.mgrid[-2:5:.05, -4:5:.05]\n",
    "grid = np.c_[xx.ravel(), yy.ravel()]\n",
    "inverse_grid = pca.inverse_transform(grid)\n",
    "pred = LR.predict(inverse_grid).reshape(xx.shape)\n",
    "\n",
    "colors = 'rbg'\n",
    "for i in range(len(newsgroups_train.target_names)):\n",
    "    plt.scatter(xx[pred == i], yy[pred == i], 5, colors[i], alpha =.1, marker = 's')\n",
    "    target = newsgroups_train.target == i\n",
    "    plt.scatter(X_train_2d[target, 0], X_train_2d[target, 1], 20, c = colors[i], label = newsgroups_train.target_names[i])\n",
    "\n",
    "plt.title('20 Newsgroups')\n",
    "plt.xlim(-2, 5)\n",
    "plt.ylim(-4, 5)\n",
    "plt.legend(loc = 'lower left')\n",
    "plt.show()"
   ]
  }
 ],
 "metadata": {
  "kernelspec": {
   "display_name": "Python 3",
   "language": "python",
   "name": "python3"
  },
  "language_info": {
   "codemirror_mode": {
    "name": "ipython",
    "version": 3
   },
   "file_extension": ".py",
   "mimetype": "text/x-python",
   "name": "python",
   "nbconvert_exporter": "python",
   "pygments_lexer": "ipython3",
   "version": "3.6.3"
  }
 },
 "nbformat": 4,
 "nbformat_minor": 1
}
