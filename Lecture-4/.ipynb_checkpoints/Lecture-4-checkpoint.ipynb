{
 "cells": [
  {
   "cell_type": "markdown",
   "metadata": {},
   "source": [
    "# Text classifcation applications\n",
    "\n",
    "## Sentiment analysis\n",
    "\n",
    "In this lecture we use IMDB dataset for sentiment analysis classification:\n",
    "\n",
    "http://ai.stanford.edu/~amaas/data/sentiment/\n",
    "\n",
    "Download the data in tsv format:\n",
    "https://github.com/Poyuli/sentiment.analysis\n",
    "\n",
    "Load data with pandas:"
   ]
  },
  {
   "cell_type": "code",
   "execution_count": 1,
   "metadata": {},
   "outputs": [],
   "source": [
    "import numpy as np\n",
    "import pandas as pd\n",
    "\n",
    "df = pd.read_csv(\"labeledTrainData.tsv\", header=0, delimiter=\"\\t\", quoting=0)"
   ]
  },
  {
   "cell_type": "markdown",
   "metadata": {},
   "source": [
    "Printing top 10 training data:"
   ]
  },
  {
   "cell_type": "code",
   "execution_count": 2,
   "metadata": {},
   "outputs": [
    {
     "data": {
      "text/html": [
       "<div>\n",
       "<style scoped>\n",
       "    .dataframe tbody tr th:only-of-type {\n",
       "        vertical-align: middle;\n",
       "    }\n",
       "\n",
       "    .dataframe tbody tr th {\n",
       "        vertical-align: top;\n",
       "    }\n",
       "\n",
       "    .dataframe thead th {\n",
       "        text-align: right;\n",
       "    }\n",
       "</style>\n",
       "<table border=\"1\" class=\"dataframe\">\n",
       "  <thead>\n",
       "    <tr style=\"text-align: right;\">\n",
       "      <th></th>\n",
       "      <th>id</th>\n",
       "      <th>sentiment</th>\n",
       "      <th>review</th>\n",
       "    </tr>\n",
       "  </thead>\n",
       "  <tbody>\n",
       "    <tr>\n",
       "      <th>0</th>\n",
       "      <td>5814_8</td>\n",
       "      <td>1</td>\n",
       "      <td>With all this stuff going down at the moment w...</td>\n",
       "    </tr>\n",
       "    <tr>\n",
       "      <th>1</th>\n",
       "      <td>2381_9</td>\n",
       "      <td>1</td>\n",
       "      <td>\\The Classic War of the Worlds\\\" by Timothy Hi...</td>\n",
       "    </tr>\n",
       "    <tr>\n",
       "      <th>2</th>\n",
       "      <td>7759_3</td>\n",
       "      <td>0</td>\n",
       "      <td>The film starts with a manager (Nicholas Bell)...</td>\n",
       "    </tr>\n",
       "    <tr>\n",
       "      <th>3</th>\n",
       "      <td>3630_4</td>\n",
       "      <td>0</td>\n",
       "      <td>It must be assumed that those who praised this...</td>\n",
       "    </tr>\n",
       "    <tr>\n",
       "      <th>4</th>\n",
       "      <td>9495_8</td>\n",
       "      <td>1</td>\n",
       "      <td>Superbly trashy and wondrously unpretentious 8...</td>\n",
       "    </tr>\n",
       "    <tr>\n",
       "      <th>5</th>\n",
       "      <td>8196_8</td>\n",
       "      <td>1</td>\n",
       "      <td>I dont know why people think this is such a ba...</td>\n",
       "    </tr>\n",
       "    <tr>\n",
       "      <th>6</th>\n",
       "      <td>7166_2</td>\n",
       "      <td>0</td>\n",
       "      <td>This movie could have been very good, but come...</td>\n",
       "    </tr>\n",
       "    <tr>\n",
       "      <th>7</th>\n",
       "      <td>10633_1</td>\n",
       "      <td>0</td>\n",
       "      <td>I watched this video at a friend's house. I'm ...</td>\n",
       "    </tr>\n",
       "    <tr>\n",
       "      <th>8</th>\n",
       "      <td>319_1</td>\n",
       "      <td>0</td>\n",
       "      <td>A friend of mine bought this film for £1, and ...</td>\n",
       "    </tr>\n",
       "    <tr>\n",
       "      <th>9</th>\n",
       "      <td>8713_10</td>\n",
       "      <td>1</td>\n",
       "      <td>&lt;br /&gt;&lt;br /&gt;This movie is full of references. ...</td>\n",
       "    </tr>\n",
       "  </tbody>\n",
       "</table>\n",
       "</div>"
      ],
      "text/plain": [
       "        id  sentiment                                             review\n",
       "0   5814_8          1  With all this stuff going down at the moment w...\n",
       "1   2381_9          1  \\The Classic War of the Worlds\\\" by Timothy Hi...\n",
       "2   7759_3          0  The film starts with a manager (Nicholas Bell)...\n",
       "3   3630_4          0  It must be assumed that those who praised this...\n",
       "4   9495_8          1  Superbly trashy and wondrously unpretentious 8...\n",
       "5   8196_8          1  I dont know why people think this is such a ba...\n",
       "6   7166_2          0  This movie could have been very good, but come...\n",
       "7  10633_1          0  I watched this video at a friend's house. I'm ...\n",
       "8    319_1          0  A friend of mine bought this film for £1, and ...\n",
       "9  8713_10          1  <br /><br />This movie is full of references. ..."
      ]
     },
     "execution_count": 2,
     "metadata": {},
     "output_type": "execute_result"
    }
   ],
   "source": [
    "df.head(10)"
   ]
  },
  {
   "cell_type": "code",
   "execution_count": 3,
   "metadata": {},
   "outputs": [
    {
     "name": "stdout",
     "output_type": "stream",
     "text": [
      "(25000, 3)\n"
     ]
    }
   ],
   "source": [
    "print(df.shape)"
   ]
  },
  {
   "cell_type": "markdown",
   "metadata": {},
   "source": [
    "Histogram plot:"
   ]
  },
  {
   "cell_type": "code",
   "execution_count": 4,
   "metadata": {},
   "outputs": [
    {
     "data": {
      "image/png": "[encoded data removed]",
      "text/plain": [
       "<matplotlib.figure.Figure at 0x17b8be84f98>"
      ]
     },
     "metadata": {},
     "output_type": "display_data"
    }
   ],
   "source": [
    "%matplotlib inline\n",
    "import matplotlib.pyplot as plt\n",
    "\n",
    "df['sentiment'].plot.hist()\n",
    "plt.show()"
   ]
  },
  {
   "cell_type": "markdown",
   "metadata": {},
   "source": [
    "Creating 80% of data for the training, and 20% for validation:"
   ]
  },
  {
   "cell_type": "code",
   "execution_count": 5,
   "metadata": {},
   "outputs": [
    {
     "name": "stdout",
     "output_type": "stream",
     "text": [
      "(20000,) (5000,)\n"
     ]
    }
   ],
   "source": [
    "#First shuffle data\n",
    "df = df.sample(frac=1, random_state= 100)\n",
    "\n",
    "X_train_text = df['review'][:20000]\n",
    "y_train = df['sentiment'][:20000]\n",
    "\n",
    "X_valid_text = df['review'][20000:]\n",
    "y_valid = df['sentiment'][20000:]\n",
    "\n",
    "print(y_train.shape, y_valid.shape)"
   ]
  },
  {
   "cell_type": "markdown",
   "metadata": {},
   "source": [
    "Vectorizing the training data:"
   ]
  },
  {
   "cell_type": "code",
   "execution_count": 6,
   "metadata": {},
   "outputs": [
    {
     "name": "stdout",
     "output_type": "stream",
     "text": [
      "(20000, 16414)\n"
     ]
    }
   ],
   "source": [
    "from sklearn.feature_extraction.text import CountVectorizer, TfidfVectorizer\n",
    "\n",
    "#vect = CountVectorizer(binary = False, min_df = 10)\n",
    "vect = TfidfVectorizer(min_df = 10)\n",
    "\n",
    "X_train = vect.fit_transform(X_train_text)\n",
    "print(X_train.shape)\n"
   ]
  },
  {
   "cell_type": "markdown",
   "metadata": {},
   "source": [
    "Vectorizing the validation data:"
   ]
  },
  {
   "cell_type": "code",
   "execution_count": 7,
   "metadata": {},
   "outputs": [
    {
     "name": "stdout",
     "output_type": "stream",
     "text": [
      "(5000, 16414)\n"
     ]
    }
   ],
   "source": [
    "X_valid = vect.transform(X_valid_text)\n",
    "print(X_valid.shape)"
   ]
  },
  {
   "cell_type": "markdown",
   "metadata": {},
   "source": [
    "Training logistic regression:"
   ]
  },
  {
   "cell_type": "code",
   "execution_count": 8,
   "metadata": {},
   "outputs": [
    {
     "data": {
      "text/plain": [
       "LogisticRegression(C=5, class_weight=None, dual=False, fit_intercept=True,\n",
       "          intercept_scaling=1, max_iter=100, multi_class='ovr', n_jobs=1,\n",
       "          penalty='l2', random_state=None, solver='liblinear', tol=0.0001,\n",
       "          verbose=0, warm_start=False)"
      ]
     },
     "execution_count": 8,
     "metadata": {},
     "output_type": "execute_result"
    }
   ],
   "source": [
    "from sklearn.linear_model import LogisticRegression\n",
    "\n",
    "LR = LogisticRegression(C = 5)\n",
    "LR.fit(X_train, y_train)"
   ]
  },
  {
   "cell_type": "markdown",
   "metadata": {},
   "source": [
    "Predicting the validation set and report the accuracy:"
   ]
  },
  {
   "cell_type": "code",
   "execution_count": 17,
   "metadata": {},
   "outputs": [
    {
     "name": "stdout",
     "output_type": "stream",
     "text": [
      "0.8924\n"
     ]
    }
   ],
   "source": [
    "from sklearn.metrics  import accuracy_score, classification_report, confusion_matrix, precision_score, recall_score, f1_score\n",
    "\n",
    "p_valid = LR.predict(X_valid)\n",
    "print(accuracy_score(y_valid, p_valid))"
   ]
  },
  {
   "cell_type": "markdown",
   "metadata": {},
   "source": [
    "Printing clasification report (precision, recall, F1):"
   ]
  },
  {
   "cell_type": "code",
   "execution_count": 82,
   "metadata": {},
   "outputs": [
    {
     "name": "stdout",
     "output_type": "stream",
     "text": [
      "             precision    recall  f1-score   support\n",
      "\n",
      "        Neg      0.893     0.897     0.895      2462\n",
      "        Pos      0.900     0.896     0.898      2538\n",
      "\n",
      "avg / total      0.896     0.896     0.896      5000\n",
      "\n"
     ]
    }
   ],
   "source": [
    "target_names = ['Neg', 'Pos']\n",
    "print(classification_report(y_valid, p_valid, digits = 3, target_names  = target_names))"
   ]
  },
  {
   "cell_type": "markdown",
   "metadata": {},
   "source": [
    "Confusion matrix:"
   ]
  },
  {
   "cell_type": "code",
   "execution_count": 96,
   "metadata": {},
   "outputs": [
    {
     "name": "stdout",
     "output_type": "stream",
     "text": [
      "[[2208  254]\n",
      " [ 264 2274]]\n"
     ]
    }
   ],
   "source": [
    "print(confusion_matrix(y_valid, p_valid))"
   ]
  },
  {
   "cell_type": "markdown",
   "metadata": {},
   "source": [
    "Feature importance:"
   ]
  },
  {
   "cell_type": "code",
   "execution_count": 97,
   "metadata": {},
   "outputs": [
    {
     "name": "stdout",
     "output_type": "stream",
     "text": [
      "Positive: excellent, great, perfect, best, wonderful, today, favorite, enjoyed, amazing, funniest, rare, fun, brilliant, highly, loved, superb, enjoyable, well, love, liked\n",
      "\n",
      "Negative: annoying, disappointing, mess, fails, ridiculous, lacks, dull, unfortunately, nothing, disappointment, horrible, terrible, worse, poorly, poor, boring, bad, waste, awful, worst\n",
      "\n"
     ]
    }
   ],
   "source": [
    "vocab = np.array(vect.get_feature_names())\n",
    "order = LR.coef_[0].argsort()\n",
    "print(\"Positive: %s\\n\" % (\", \".join(vocab[order[-20:][::-1]])))\n",
    "print(\"Negative: %s\\n\" % (\", \".join(vocab[order[:20][::-1]])))"
   ]
  },
  {
   "cell_type": "markdown",
   "metadata": {},
   "source": [
    "## Learning curve:"
   ]
  },
  {
   "cell_type": "code",
   "execution_count": 20,
   "metadata": {},
   "outputs": [
    {
     "name": "stdout",
     "output_type": "stream",
     "text": [
      "[[0.8166     0.79030481 0.86148919 0.82436315]\n",
      " [0.845      0.82157521 0.88110488 0.8502994 ]\n",
      " [0.8524     0.83587786 0.87670136 0.85580305]\n",
      " [0.8616     0.84730769 0.88190552 0.86426049]\n",
      " [0.8652     0.85266821 0.88270616 0.86742722]\n",
      " [0.868      0.85427911 0.88710969 0.87038492]\n",
      " [0.872      0.86091686 0.88710969 0.87381703]\n",
      " [0.8726     0.86192143 0.88710969 0.87433419]\n",
      " [0.8778     0.86927593 0.88911129 0.87908173]\n",
      " [0.8766     0.86495925 0.89231385 0.87842365]\n",
      " [0.8788     0.87039937 0.88991193 0.88004751]\n",
      " [0.883      0.87613055 0.89191353 0.8839516 ]\n",
      " [0.8844     0.87735849 0.89351481 0.88536295]\n",
      " [0.884      0.88055556 0.88831065 0.8844161 ]\n",
      " [0.8862     0.88077379 0.89311449 0.88690121]\n",
      " [0.8888     0.88440222 0.89431545 0.88933121]\n",
      " [0.893      0.88779139 0.89951962 0.89361702]\n",
      " [0.8922     0.88547816 0.90072058 0.89303433]\n",
      " [0.8922     0.88639053 0.89951962 0.89290682]\n",
      " [0.8924     0.88704581 0.8991193  0.89304175]]\n"
     ]
    }
   ],
   "source": [
    "scores = []\n",
    "metrics = [accuracy_score, precision_score, recall_score, f1_score]\n",
    "for i in range(1000, 20001, 1000):\n",
    "    X_train_text = df['review'][:i]\n",
    "    y_train = df['sentiment'][:i]\n",
    "\n",
    "    vect = TfidfVectorizer(min_df = .0005)\n",
    "\n",
    "    X_train = vect.fit_transform(X_train_text)\n",
    "    X_valid = vect.transform(X_valid_text)\n",
    "\n",
    "    LR = LogisticRegression(C = 5)\n",
    "    LR.fit(X_train, y_train)\n",
    "\n",
    "    p_valid = LR.predict(X_valid)\n",
    "    scores.append([metric(y_valid, p_valid) for metric in metrics])\n",
    "\n",
    "scores = np.array(scores)\n",
    "print(scores)"
   ]
  },
  {
   "cell_type": "code",
   "execution_count": 26,
   "metadata": {},
   "outputs": [
    {
     "data": {
      "image/png": "[encoded data removed]",
      "text/plain": [
       "<matplotlib.figure.Figure at 0x17b8ff50080>"
      ]
     },
     "metadata": {},
     "output_type": "display_data"
    }
   ],
   "source": [
    "%matplotlib inline\n",
    "\n",
    "size = np.arange(1000, 20001, 1000)\n",
    "plt.title(\"Learning curve\")\n",
    "\n",
    "plt.plot(size, scores[:, 0], label = 'Accuracy')\n",
    "plt.plot(size, scores[:, 1], label = 'Precision')\n",
    "plt.plot(size, scores[:, 2], label = 'Recall')\n",
    "plt.plot(size, scores[:, 3], label = 'F1')\n",
    "\n",
    "plt.xlabel('Training size')\n",
    "plt.ylabel('Metric')\n",
    "plt.xlim(size.min(), size.max())\n",
    "#plt.ylim(0, 200)\n",
    "plt.legend(loc = 'lower right')\n",
    "plt.show()"
   ]
  },
  {
   "cell_type": "markdown",
   "metadata": {},
   "source": [
    "## Cross-validation:"
   ]
  },
  {
   "cell_type": "code",
   "execution_count": 36,
   "metadata": {},
   "outputs": [],
   "source": [
    "from sklearn.model_selection import KFold\n",
    "\n",
    "scores = []\n",
    "kf = KFold(n_splits=10)\n",
    "for train, valid in kf.split(df['sentiment']):\n",
    "    X_train_text = df['review'][train]\n",
    "    y_train = df['sentiment'][train]\n",
    "\n",
    "    X_valid_text = df['review'][valid]\n",
    "    y_valid = df['sentiment'][valid]\n",
    "\n",
    "    vect = TfidfVectorizer(min_df = .0005)\n",
    "\n",
    "    X_train = vect.fit_transform(X_train_text)\n",
    "    X_valid = vect.transform(X_valid_text)\n",
    "\n",
    "    LR = LogisticRegression(C = 5)\n",
    "    LR.fit(X_train, y_train)\n",
    "\n",
    "    p_valid = LR.predict(X_valid)\n",
    "    scores.append([metric(y_valid, p_valid) for metric in metrics])\n",
    "\n",
    "scores = np.array(scores).mean(0)"
   ]
  },
  {
   "cell_type": "code",
   "execution_count": 37,
   "metadata": {},
   "outputs": [
    {
     "name": "stdout",
     "output_type": "stream",
     "text": [
      "Accuracy:  0.893\n",
      "Precision: 0.887\n",
      "Recall:    0.901\n",
      "F1:        0.894\n"
     ]
    }
   ],
   "source": [
    "print(\"Accuracy:  %.03f\" % scores[0])\n",
    "print(\"Precision: %.03f\" % scores[1])\n",
    "print(\"Recall:    %.03f\" % scores[2])\n",
    "print(\"F1:        %.03f\" % scores[3])"
   ]
  },
  {
   "cell_type": "markdown",
   "metadata": {},
   "source": [
    "## Demographic classification\n",
    "\n",
    "Blog gender classification, download data from:\n",
    "\n",
    "https://github.com/mdimarco/blog_gender_identification\n"
   ]
  },
  {
   "cell_type": "code",
   "execution_count": 116,
   "metadata": {},
   "outputs": [
    {
     "data": {
      "text/html": [
       "<div>\n",
       "<style scoped>\n",
       "    .dataframe tbody tr th:only-of-type {\n",
       "        vertical-align: middle;\n",
       "    }\n",
       "\n",
       "    .dataframe tbody tr th {\n",
       "        vertical-align: top;\n",
       "    }\n",
       "\n",
       "    .dataframe thead th {\n",
       "        text-align: right;\n",
       "    }\n",
       "</style>\n",
       "<table border=\"1\" class=\"dataframe\">\n",
       "  <thead>\n",
       "    <tr style=\"text-align: right;\">\n",
       "      <th></th>\n",
       "      <th>target</th>\n",
       "      <th>text</th>\n",
       "    </tr>\n",
       "  </thead>\n",
       "  <tbody>\n",
       "    <tr>\n",
       "      <th>0</th>\n",
       "      <td>1</td>\n",
       "      <td>chris having friday afternoon relaxing plannin...</td>\n",
       "    </tr>\n",
       "    <tr>\n",
       "      <th>1</th>\n",
       "      <td>1</td>\n",
       "      <td>originally uploaded fun contrary think given w...</td>\n",
       "    </tr>\n",
       "    <tr>\n",
       "      <th>2</th>\n",
       "      <td>1</td>\n",
       "      <td>literature got taste 1ST_PERSON read 1ST_PERSO...</td>\n",
       "    </tr>\n",
       "    <tr>\n",
       "      <th>3</th>\n",
       "      <td>1</td>\n",
       "      <td>saturday february la food 1ST_PERSON setting u...</td>\n",
       "    </tr>\n",
       "    <tr>\n",
       "      <th>4</th>\n",
       "      <td>0</td>\n",
       "      <td>i've get eating solid foods frustrating he's s...</td>\n",
       "    </tr>\n",
       "    <tr>\n",
       "      <th>5</th>\n",
       "      <td>1</td>\n",
       "      <td>just make around home keep expectations 1ST_PE...</td>\n",
       "    </tr>\n",
       "    <tr>\n",
       "      <th>6</th>\n",
       "      <td>1</td>\n",
       "      <td>really enjoyed mark confidence basically setti...</td>\n",
       "    </tr>\n",
       "    <tr>\n",
       "      <th>7</th>\n",
       "      <td>0</td>\n",
       "      <td>took trip home weekend friends family going so...</td>\n",
       "    </tr>\n",
       "    <tr>\n",
       "      <th>8</th>\n",
       "      <td>1</td>\n",
       "      <td>quite abilities unknown character guy since 1s...</td>\n",
       "    </tr>\n",
       "    <tr>\n",
       "      <th>9</th>\n",
       "      <td>1</td>\n",
       "      <td>waiting hear town reported wednesday had guys ...</td>\n",
       "    </tr>\n",
       "  </tbody>\n",
       "</table>\n",
       "</div>"
      ],
      "text/plain": [
       "   target                                               text\n",
       "0       1  chris having friday afternoon relaxing plannin...\n",
       "1       1  originally uploaded fun contrary think given w...\n",
       "2       1  literature got taste 1ST_PERSON read 1ST_PERSO...\n",
       "3       1  saturday february la food 1ST_PERSON setting u...\n",
       "4       0  i've get eating solid foods frustrating he's s...\n",
       "5       1  just make around home keep expectations 1ST_PE...\n",
       "6       1  really enjoyed mark confidence basically setti...\n",
       "7       0  took trip home weekend friends family going so...\n",
       "8       1  quite abilities unknown character guy since 1s...\n",
       "9       1  waiting hear town reported wednesday had guys ..."
      ]
     },
     "execution_count": 116,
     "metadata": {},
     "output_type": "execute_result"
    }
   ],
   "source": [
    "train_df = pd.read_csv(\"train.csv\", names = ['target','text'], delimiter=\",\", quoting=1, encoding = 'latin-1')\n",
    "valid_df = pd.read_csv(\"test.csv\", names = ['target','text'], delimiter=\",\", quoting=1, encoding = 'latin-1')\n",
    "valid_df.head(10)"
   ]
  },
  {
   "cell_type": "code",
   "execution_count": 117,
   "metadata": {},
   "outputs": [
    {
     "name": "stdout",
     "output_type": "stream",
     "text": [
      "(2903, 2)\n",
      "(322, 2)\n"
     ]
    }
   ],
   "source": [
    "print(train_df.shape)\n",
    "print(valid_df.shape)"
   ]
  },
  {
   "cell_type": "code",
   "execution_count": 170,
   "metadata": {},
   "outputs": [
    {
     "name": "stdout",
     "output_type": "stream",
     "text": [
      "             precision    recall  f1-score   support\n",
      "\n",
      "     Female      0.698     0.669     0.683       145\n",
      "       Male      0.738     0.763     0.750       177\n",
      "\n",
      "avg / total      0.720     0.720     0.720       322\n",
      "\n"
     ]
    }
   ],
   "source": [
    "vect = CountVectorizer(binary = True, min_df = 5)\n",
    "\n",
    "X_train = vect.fit_transform(train_df['text'])\n",
    "y_train = train_df['target']\n",
    "\n",
    "X_valid = vect.transform(valid_df['text'])\n",
    "y_valid = valid_df['target']\n",
    "\n",
    "LR = LogisticRegression(C = .01)\n",
    "LR.fit(X_train, y_train)\n",
    "\n",
    "p_valid = LR.predict(X_valid)\n",
    "target_names = ['Female', 'Male']\n",
    "print(classification_report(y_valid, p_valid, digits = 3, target_names = target_names))"
   ]
  },
  {
   "cell_type": "code",
   "execution_count": 172,
   "metadata": {},
   "outputs": [
    {
     "name": "stdout",
     "output_type": "stream",
     "text": [
      "Male: its, game, wife, john, guy, set, similar, future, guys, team, character, you, important, test, case, obviously, film, bill, video, possible\n",
      "\n",
      "Female: oh, crazy, baby, myself, children, eat, week, really, lovely, felt, eating, lunch, beautiful, can, little, husband, mom, food, female, love\n",
      "\n"
     ]
    }
   ],
   "source": [
    "vocab = np.array(vect.get_feature_names())\n",
    "order = LR.coef_[0].argsort()\n",
    "print(\"Male: %s\\n\" % (\", \".join(vocab[order[-20:][::-1]])))\n",
    "print(\"Female: %s\\n\" % (\", \".join(vocab[order[:20][::-1]])))"
   ]
  }
 ],
 "metadata": {
  "kernelspec": {
   "display_name": "Python 3",
   "language": "python",
   "name": "python3"
  },
  "language_info": {
   "codemirror_mode": {
    "name": "ipython",
    "version": 3
   },
   "file_extension": ".py",
   "mimetype": "text/x-python",
   "name": "python",
   "nbconvert_exporter": "python",
   "pygments_lexer": "ipython3",
   "version": "3.6.3"
  }
 },
 "nbformat": 4,
 "nbformat_minor": 2
}
