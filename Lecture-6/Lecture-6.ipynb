{
 "cells": [
  {
   "cell_type": "markdown",
   "metadata": {},
   "source": [
    "# Lecture 6\n",
    "\n",
    "## Dimensionality reduction\n",
    "\n",
    "Loading 20 News Groups:"
   ]
  },
  {
   "cell_type": "code",
   "execution_count": 1,
   "metadata": {
    "collapsed": true
   },
   "outputs": [],
   "source": [
    "from sklearn.datasets import fetch_20newsgroups\n",
    "\n",
    "\n",
    "cats = ['sci.space', 'talk.politics.guns', 'comp.graphics', 'rec.autos', 'alt.atheism']\n",
    "newsgroups_train = fetch_20newsgroups(subset='train', categories=cats, remove=('headers', 'footers', 'quotes'), shuffle = True)\n",
    "data = newsgroups_train.data"
   ]
  },
  {
   "cell_type": "markdown",
   "metadata": {},
   "source": [
    "Vectorizing the data using Tf-idf:"
   ]
  },
  {
   "cell_type": "code",
   "execution_count": 2,
   "metadata": {},
   "outputs": [
    {
     "data": {
      "text/plain": [
       "(2797, 6497)"
      ]
     },
     "execution_count": 2,
     "metadata": {},
     "output_type": "execute_result"
    }
   ],
   "source": [
    "from sklearn.feature_extraction.text import TfidfVectorizer\n",
    "import numpy as np\n",
    "\n",
    "vect = TfidfVectorizer(min_df =5, stop_words = 'english')\n",
    "X = vect.fit_transform(data)\n",
    "X.shape"
   ]
  },
  {
   "cell_type": "markdown",
   "metadata": {},
   "source": [
    "Running LSA with 50 components:"
   ]
  },
  {
   "cell_type": "code",
   "execution_count": 6,
   "metadata": {},
   "outputs": [
    {
     "data": {
      "text/plain": [
       "(2797, 50)"
      ]
     },
     "execution_count": 6,
     "metadata": {},
     "output_type": "execute_result"
    }
   ],
   "source": [
    "from sklearn.decomposition import TruncatedSVD\n",
    "\n",
    "lsa = TruncatedSVD(50)\n",
    "Z = lsa.fit_transform(X)\n",
    "Z.shape"
   ]
  },
  {
   "cell_type": "markdown",
   "metadata": {},
   "source": [
    "We can access to the components:"
   ]
  },
  {
   "cell_type": "code",
   "execution_count": 7,
   "metadata": {},
   "outputs": [
    {
     "name": "stdout",
     "output_type": "stream",
     "text": [
      "(50, 6497)\n"
     ]
    },
    {
     "data": {
      "text/plain": [
       "array([[ 0.01704248,  0.03684162,  0.00588748, ...,  0.00600745,\n",
       "         0.00883079,  0.00157385],\n",
       "       [ 0.01789592, -0.01131437,  0.00863117, ...,  0.00122107,\n",
       "         0.02232187,  0.00123815],\n",
       "       [ 0.00705201,  0.02534256,  0.00963355, ...,  0.007903  ,\n",
       "        -0.01358207,  0.00299649],\n",
       "       ..., \n",
       "       [-0.00848706,  0.08550876, -0.00611421, ...,  0.01129752,\n",
       "         0.01816399,  0.00178488],\n",
       "       [ 0.03308465,  0.0740148 ,  0.00420853, ...,  0.00537673,\n",
       "        -0.00689568,  0.00022311],\n",
       "       [-0.00399391, -0.03179085,  0.00266049, ..., -0.00346489,\n",
       "        -0.00930595,  0.00315822]])"
      ]
     },
     "execution_count": 7,
     "metadata": {},
     "output_type": "execute_result"
    }
   ],
   "source": [
    "print(lsa.components_.shape)\n",
    "lsa.components_"
   ]
  },
  {
   "cell_type": "markdown",
   "metadata": {},
   "source": [
    "Let's print top features per component. It is better to use absolute value of components:"
   ]
  },
  {
   "cell_type": "code",
   "execution_count": 12,
   "metadata": {},
   "outputs": [
    {
     "name": "stdout",
     "output_type": "stream",
     "text": [
      "['don' 'people' 'just' 'like' 'think' 'know' 'car' 'space']\n",
      "['thanks' 'space' 'graphics' 'files' 'image' 'program' 'file' 'ftp']\n",
      "['space' 'nasa' 'launch' 'shuttle' 'orbit' 'moon' 'lunar' 'earth']\n",
      "['car' 'cars' 'dealer' 'engine' 'new' 'price' 'speed' 'like']\n",
      "['god' 'car' 'atheism' 'space' 'atheists' 'belief' 'bible' 'believe']\n",
      "['com' 'ico' 'tek' 'bobbe' 'beauchaine' 'sank' 'bronx' 'manhattan']\n",
      "['just' 'don' 'think' 'graphics' 'people' 'like' 'know' 'lot']\n",
      "['thanks' 'know' 'space' 'advance' 'mail' 'does' 'right' 'anybody']\n",
      "['graphics' 'edu' 'fbi' 'comp' 'book' 'koresh' 'batf' 'news']\n",
      "['fbi' 'files' 'file' 'batf' 'koresh' 'image' 'compound' 'people']\n",
      "['file' 'edu' 'car' 'files' 'people' 'space' 'don' 'nasa']\n",
      "['people' 'right' 'militia' 'car' 'thanks' 'software' 'life' 'government']\n",
      "['just' 'right' 'god' 'militia' 'does' 'card' 'government' 'windows']\n",
      "['card' 'space' 'vesa' 'mode' 'windows' 'driver' 'vga' 'video']\n",
      "['space' 'graphics' 'car' 'group' 'file' 'book' 'comp' 'files']\n",
      "['know' 'does' 'graphics' 'file' 'sure' 'ftp' 'software' 'nasa']\n",
      "['software' 'god' 'thanks' 'just' 'nasa' 'car' 'fbi' 'people']\n",
      "['just' 'book' 'islam' 'objective' 'mode' 'claim' 'data' 'color']\n",
      "['think' 'right' 'god' 'graphics' 'thanks' 'nasa' 'points' 'center']\n",
      "['stuff' 'deleted' 'book' 'don' 'people' 'know' 'real' 'want']\n",
      "['nasa' 'software' 'did' 'deleted' 'point' 'gov' 'points' 'center']\n",
      "['com' 'like' 'feustel' 'does' 'nasa' 'netcom' 'dave' 'n9myi']\n",
      "['stuff' 'deleted' 'com' 'good' 'feustel' 'thanks' 'software' 'islam']\n",
      "['people' 'cars' 'engine' 've' 'space' 'problem' 'com' 'software']\n",
      "['people' 'points' 'edu' 'algorithm' 'point' 'feustel' 'problem' 'good']\n",
      "['think' 'stuff' 'does' '000' 'deleted' 'image' 'people' 'new']\n",
      "['did' 'dealer' 'nasa' 'new' 'cost' 'price' 'feustel' 'money']\n",
      "['software' 'need' 'car' 'stuff' 'deleted' 'just' 've' 'objective']\n",
      "['cview' 'drive' 'atheism' 'good' 'file' 'gas' '000' 'windows']\n",
      "['did' 'image' 'make' 'problem' 'oil' 'color' 'edu' 'guns']\n",
      "['men' 'mom' 'bobby' 'way' 'say' 'cview' 'islam' 'islamic']\n",
      "['people' 've' 'life' 'like' 'graphics' 'car' 'moon' 'time']\n",
      "['men' 'program' 'feustel' 'mom' 've' '000' 'bobby' 'objective']\n",
      "['file' 'll' 'look' 'right' 'space' 'post' 'agree' 'looking']\n",
      "['good' 'looking' 'windows' 'freewill' 'satan' 'software' 'angels' 'thing']\n",
      "['like' 'don' 'radius' 'atheism' '000' 'guns' 'ibm' 'tom']\n",
      "['__' 'freewill' 'satan' 'good' 'angels' 'image' 'explain' 've']\n",
      "['looking' 'file' 'law' 'like' 've' 'edu' 'know' 'cobb']\n",
      "['ftp' 'software' 'moon' 'islam' 'problem' 'cars' 'package' 'does']\n",
      "['format' 'need' 'auto' 'file' 'mode' 'lot' 'said' 'used']\n",
      "['__' 've' 'question' 'software' 'file' 'feustel' 'need' '_____']\n",
      "['lot' 'data' 'sorry' 'post' 'price' 'does' 'images' 'spacecraft']\n",
      "['said' 'police' 'problem' 'need' 'life' 'deleted' 'files' 'll']\n",
      "['windows' 'looking' 'image' 'moon' 'cars' 'say' 'talking' 'feustel']\n",
      "['cview' 'time' 'say' 'launch' 'jim' 'bit' 'does' 'good']\n",
      "['__' 'moral' 'talking' 'looking' 'color' 'point' '_____' 'dealer']\n",
      "['windows' 'image' 'things' 'card' 'data' 'price' 'agree' 'oil']\n",
      "['said' '__' 'mail' 'seen' 'haven' 'program' 'religion' 'say']\n",
      "['__' 'claim' '3d' 'look' 'good' 'post' 'air' 'evidence']\n",
      "['data' 'cars' '__' 'did' 'sorry' 'code' 'book' 'people']\n"
     ]
    }
   ],
   "source": [
    "vocab = np.array(vect.get_feature_names())\n",
    "\n",
    "for i in range(Z.shape[1]):\n",
    "    order = np.abs(lsa.components_[i].argsort())[::-1]\n",
    "    print(vocab[order[:8]])"
   ]
  },
  {
   "cell_type": "markdown",
   "metadata": {},
   "source": [
    "Lets look at at low dimension:"
   ]
  },
  {
   "cell_type": "code",
   "execution_count": 16,
   "metadata": {},
   "outputs": [
    {
     "data": {
      "text/plain": [
       "array([[ 0.14439162, -0.03566937, -0.02651469, ...,  0.01913644,\n",
       "        -0.02640809, -0.0450096 ],\n",
       "       [ 0.07646217, -0.04215896,  0.00351482, ...,  0.06312033,\n",
       "         0.02484236, -0.0875196 ],\n",
       "       [ 0.07530035,  0.002122  ,  0.00417379, ..., -0.01528025,\n",
       "        -0.05287871,  0.00231739],\n",
       "       ..., \n",
       "       [ 0.15335207, -0.0278975 , -0.01684388, ..., -0.04256078,\n",
       "        -0.03430973,  0.02038234],\n",
       "       [ 0.03133505, -0.03549254, -0.00130973, ...,  0.06540488,\n",
       "        -0.049976  , -0.03072308],\n",
       "       [ 0.1101559 , -0.03058157, -0.04417586, ..., -0.05511181,\n",
       "        -0.05708893,  0.02894616]])"
      ]
     },
     "execution_count": 16,
     "metadata": {},
     "output_type": "execute_result"
    }
   ],
   "source": [
    "Z"
   ]
  },
  {
   "cell_type": "markdown",
   "metadata": {},
   "source": [
    "Verifying this formula: Z = X W^T"
   ]
  },
  {
   "cell_type": "code",
   "execution_count": 21,
   "metadata": {},
   "outputs": [
    {
     "data": {
      "text/plain": [
       "array([[ 0.14439162, -0.03566937, -0.02651469, ...,  0.01913644,\n",
       "        -0.02640809, -0.0450096 ],\n",
       "       [ 0.07646217, -0.04215896,  0.00351482, ...,  0.06312033,\n",
       "         0.02484236, -0.0875196 ],\n",
       "       [ 0.07530035,  0.002122  ,  0.00417379, ..., -0.01528025,\n",
       "        -0.05287871,  0.00231739],\n",
       "       ..., \n",
       "       [ 0.15335207, -0.0278975 , -0.01684388, ..., -0.04256078,\n",
       "        -0.03430973,  0.02038234],\n",
       "       [ 0.03133505, -0.03549254, -0.00130973, ...,  0.06540488,\n",
       "        -0.049976  , -0.03072308],\n",
       "       [ 0.1101559 , -0.03058157, -0.04417586, ..., -0.05511181,\n",
       "        -0.05708893,  0.02894616]])"
      ]
     },
     "execution_count": 21,
     "metadata": {},
     "output_type": "execute_result"
    }
   ],
   "source": [
    "X.dot(lsa.components_.T)"
   ]
  },
  {
   "cell_type": "markdown",
   "metadata": {},
   "source": [
    "## Using PCA:"
   ]
  },
  {
   "cell_type": "code",
   "execution_count": 22,
   "metadata": {},
   "outputs": [
    {
     "ename": "TypeError",
     "evalue": "PCA does not support sparse input. See TruncatedSVD for a possible alternative.",
     "output_type": "error",
     "traceback": [
      "\u001b[1;31m---------------------------------------------------------------------------\u001b[0m",
      "\u001b[1;31mTypeError\u001b[0m                                 Traceback (most recent call last)",
      "\u001b[1;32m<ipython-input-22-a1932e62f1df>\u001b[0m in \u001b[0;36m<module>\u001b[1;34m()\u001b[0m\n\u001b[0;32m      2\u001b[0m \u001b[1;33m\u001b[0m\u001b[0m\n\u001b[0;32m      3\u001b[0m \u001b[0mpca\u001b[0m \u001b[1;33m=\u001b[0m \u001b[0mPCA\u001b[0m\u001b[1;33m(\u001b[0m\u001b[1;36m50\u001b[0m\u001b[1;33m)\u001b[0m\u001b[1;33m\u001b[0m\u001b[0m\n\u001b[1;32m----> 4\u001b[1;33m \u001b[0mZ\u001b[0m \u001b[1;33m=\u001b[0m \u001b[0mpca\u001b[0m\u001b[1;33m.\u001b[0m\u001b[0mfit_transform\u001b[0m\u001b[1;33m(\u001b[0m\u001b[0mX\u001b[0m\u001b[1;33m)\u001b[0m\u001b[1;33m\u001b[0m\u001b[0m\n\u001b[0m\u001b[0;32m      5\u001b[0m \u001b[0mZ\u001b[0m\u001b[1;33m.\u001b[0m\u001b[0mshape\u001b[0m\u001b[1;33m\u001b[0m\u001b[0m\n",
      "\u001b[1;32m~\\Anaconda3\\lib\\site-packages\\sklearn\\decomposition\\pca.py\u001b[0m in \u001b[0;36mfit_transform\u001b[1;34m(self, X, y)\u001b[0m\n\u001b[0;32m    346\u001b[0m \u001b[1;33m\u001b[0m\u001b[0m\n\u001b[0;32m    347\u001b[0m         \"\"\"\n\u001b[1;32m--> 348\u001b[1;33m         \u001b[0mU\u001b[0m\u001b[1;33m,\u001b[0m \u001b[0mS\u001b[0m\u001b[1;33m,\u001b[0m \u001b[0mV\u001b[0m \u001b[1;33m=\u001b[0m \u001b[0mself\u001b[0m\u001b[1;33m.\u001b[0m\u001b[0m_fit\u001b[0m\u001b[1;33m(\u001b[0m\u001b[0mX\u001b[0m\u001b[1;33m)\u001b[0m\u001b[1;33m\u001b[0m\u001b[0m\n\u001b[0m\u001b[0;32m    349\u001b[0m         \u001b[0mU\u001b[0m \u001b[1;33m=\u001b[0m \u001b[0mU\u001b[0m\u001b[1;33m[\u001b[0m\u001b[1;33m:\u001b[0m\u001b[1;33m,\u001b[0m \u001b[1;33m:\u001b[0m\u001b[0mself\u001b[0m\u001b[1;33m.\u001b[0m\u001b[0mn_components_\u001b[0m\u001b[1;33m]\u001b[0m\u001b[1;33m\u001b[0m\u001b[0m\n\u001b[0;32m    350\u001b[0m \u001b[1;33m\u001b[0m\u001b[0m\n",
      "\u001b[1;32m~\\Anaconda3\\lib\\site-packages\\sklearn\\decomposition\\pca.py\u001b[0m in \u001b[0;36m_fit\u001b[1;34m(self, X)\u001b[0m\n\u001b[0;32m    364\u001b[0m         \u001b[1;31m# This is more informative than the generic one raised by check_array.\u001b[0m\u001b[1;33m\u001b[0m\u001b[1;33m\u001b[0m\u001b[0m\n\u001b[0;32m    365\u001b[0m         \u001b[1;32mif\u001b[0m \u001b[0missparse\u001b[0m\u001b[1;33m(\u001b[0m\u001b[0mX\u001b[0m\u001b[1;33m)\u001b[0m\u001b[1;33m:\u001b[0m\u001b[1;33m\u001b[0m\u001b[0m\n\u001b[1;32m--> 366\u001b[1;33m             raise TypeError('PCA does not support sparse input. See '\n\u001b[0m\u001b[0;32m    367\u001b[0m                             'TruncatedSVD for a possible alternative.')\n\u001b[0;32m    368\u001b[0m \u001b[1;33m\u001b[0m\u001b[0m\n",
      "\u001b[1;31mTypeError\u001b[0m: PCA does not support sparse input. See TruncatedSVD for a possible alternative."
     ]
    }
   ],
   "source": [
    "from sklearn.decomposition import PCA\n",
    "\n",
    "pca = PCA(50)\n",
    "Z = pca.fit_transform(X)\n",
    "Z.shape"
   ]
  },
  {
   "cell_type": "markdown",
   "metadata": {},
   "source": [
    "PCA does not support sparse matrix, let's change it to the dense matrix:"
   ]
  },
  {
   "cell_type": "code",
   "execution_count": 23,
   "metadata": {},
   "outputs": [
    {
     "data": {
      "text/plain": [
       "(2797, 50)"
      ]
     },
     "execution_count": 23,
     "metadata": {},
     "output_type": "execute_result"
    }
   ],
   "source": [
    "Z = pca.fit_transform(X.todense())\n",
    "Z.shape"
   ]
  },
  {
   "cell_type": "markdown",
   "metadata": {},
   "source": [
    "Printing components:"
   ]
  },
  {
   "cell_type": "code",
   "execution_count": 24,
   "metadata": {},
   "outputs": [
    {
     "name": "stdout",
     "output_type": "stream",
     "text": [
      "(50, 6497)\n"
     ]
    },
    {
     "data": {
      "text/plain": [
       "array([[ 0.01411341, -0.02324988,  0.00696027, ..., -0.00053713,\n",
       "         0.01868221,  0.00039864],\n",
       "       [ 0.00905452,  0.0318483 ,  0.01047114, ...,  0.00854942,\n",
       "        -0.00645474,  0.0035524 ],\n",
       "       [ 0.0234697 ,  0.03455881,  0.00063371, ...,  0.00219892,\n",
       "        -0.01304935, -0.00182879],\n",
       "       ..., \n",
       "       [ 0.00241384,  0.0604757 ,  0.00666983, ...,  0.00485516,\n",
       "         0.02300655,  0.00144835],\n",
       "       [-0.0031401 , -0.05853803, -0.0175989 , ...,  0.00364943,\n",
       "         0.0021521 , -0.00082816],\n",
       "       [ 0.02827372, -0.0313904 ,  0.00266965, ...,  0.00711875,\n",
       "        -0.02733812,  0.0007273 ]])"
      ]
     },
     "execution_count": 24,
     "metadata": {},
     "output_type": "execute_result"
    }
   ],
   "source": [
    "print(pca.components_.shape)\n",
    "pca.components_"
   ]
  },
  {
   "cell_type": "markdown",
   "metadata": {},
   "source": [
    "Prining top features per components:"
   ]
  },
  {
   "cell_type": "code",
   "execution_count": 29,
   "metadata": {},
   "outputs": [
    {
     "name": "stdout",
     "output_type": "stream",
     "text": [
      "['people' 'thanks' 'gun' 'don' 'graphics' 'think' 'files' 'god']\n",
      "['space' 'nasa' 'car' 'thanks' 'shuttle' 'launch' 'moon' 'earth']\n",
      "['car' 'god' 'cars' 'people' 'engine' 'dealer' 'atheism' 'graphics']\n",
      "['gun' 'god' 'guns' 'graphics' 'people' 'don' 'thanks' 'file']\n",
      "['god' 'car' 'just' 'don' 'gun' 'know' 'like' 'think']\n",
      "['com' 'ico' 'tek' 'bobbe' 'bronx' 'manhattan' 'sank' 'beauchaine']\n",
      "['god' 'just' 'car' 'gun' 'think' 'don' 'does' 'atheism']\n",
      "['thanks' 'know' 'image' 'space' 'advance' 'graphics' 'does' 'mail']\n",
      "['graphics' 'edu' 'does' 'files' 'know' 'file' 'comp' 'group']\n",
      "['gun' 'people' 'fbi' 'file' 'files' 'car' 'graphics' 'batf']\n",
      "['edu' 'just' 'file' 'files' 'gun' 'software' 'space' 'graphics']\n",
      "['fbi' 'people' 'right' 'koresh' 'know' 'god' 'batf' 'gas']\n",
      "['just' 'don' 'think' 'right' 'god' 'militia' 'post' 've']\n",
      "['thanks' 'card' 'vesa' 'mode' 'space' 'just' 'windows' 'driver']\n",
      "['know' 'does' 'space' 'software' 'stuff' 'don' 'post' 'deleted']\n",
      "['graphics' 'edu' 'does' 'space' 'software' 'people' 'thanks' 'file']\n",
      "['just' 'like' 'stuff' 'deleted' 'right' 'edu' 'thanks' 'car']\n",
      "['software' 'god' 'graphics' 'book' 'just' 'edu' 'space' 'data']\n",
      "['software' 'right' 'think' 'like' 'islam' 'god' 'thanks' 'points']\n",
      "['nasa' 'stuff' 'deleted' 'edu' 'book' 'think' 'real' 'gov']\n",
      "['don' 'com' 'feustel' 've' 'software' 'stuff' 'did' 'know']\n",
      "['like' 'good' 'com' 'does' 'feustel' 'know' 'file' 'software']\n",
      "['like' 'com' 'software' 'stuff' 'post' 'cars' 'deleted' 'space']\n",
      "['did' 'right' 'people' 'points' 'software' 'algorithm' 'point' 'claim']\n",
      "['people' 'stuff' 'good' 'thanks' 'post' 'com' 'deleted' 'feustel']\n",
      "['good' 'think' 'does' 'people' 've' '000' 'don' 'need']\n",
      "['ve' 'space' 'don' 'did' 'feustel' 'program' 'moon' 'nasa']\n",
      "['cview' 'need' 'image' 'file' 'like' 'feustel' 'windows' 'post']\n",
      "['good' 'car' 'need' 'like' 'software' 'stuff' 'deleted' 'cars']\n",
      "['did' 've' 'think' 'problem' 'good' 'looking' 'software' 'guns']\n",
      "['ve' 'just' 'looking' 'people' 'group' 'price' 'graphics' 'law']\n",
      "['think' 'objective' 'morality' 'claim' 'did' 'space' 'people' 'files']\n",
      "['men' 'mom' 'does' 'bobby' 'feustel' 'image' 'looking' 'cview']\n",
      "['ve' 'law' '000' 'people' 'atheism' 'files' 'com' 'don']\n",
      "['like' 'file' 'll' 'feustel' 'things' 'time' 'dealer' 'problem']\n",
      "['software' 've' 'right' 'engine' 'oil' 'bible' 'islam' 'safety']\n",
      "['windows' 'file' 'good' 'dos' 'new' 'islam' 'problem' 'need']\n",
      "['graphics' 'cars' 'oil' 'does' 'group' 'year' 'engine' 'files']\n",
      "['good' 'question' 'guns' 'atheism' 'windows' 'answer' 'freewill' 'satan']\n",
      "['islam' 'right' 'things' 'make' 'good' 'said' 'don' 'post']\n",
      "['__' '000' 'feustel' 'guns' 'know' 'cview' 'question' 'world']\n",
      "['ve' 'oil' 'question' 'guns' 'said' '__' 'help' 'right']\n",
      "['feustel' 'good' 'bit' 'll' 'cost' 'talking' 'does' 'islam']\n",
      "['__' 'right' 'program' 'guns' 'don' 'things' 'files' 'cview']\n",
      "['__' 'question' 'looking' 'don' 'bible' '000' 'make' 'life']\n",
      "['windows' 'did' 'think' 'use' 'moral' 'life' 'agree' 'vesa']\n",
      "['000' 'post' 'cview' 'files' 'data' 'did' 'want' 'auto']\n",
      "['need' 'question' 'want' 'list' 'book' 'll' 'problem' 'guns']\n",
      "['__' 'looking' 'new' 'file' 'mean' 'guns' 'explain' 'bit']\n",
      "['gun' 'program' 'post' 'things' 'mail' 'used' 'image' 'lot']\n"
     ]
    }
   ],
   "source": [
    "for i in range(Z.shape[1]):\n",
    "    order = np.abs(pca.components_[i]).argsort()[::-1]\n",
    "    print(vocab[order[:8]])"
   ]
  },
  {
   "cell_type": "markdown",
   "metadata": {},
   "source": [
    "## Clustering using k-means"
   ]
  },
  {
   "cell_type": "code",
   "execution_count": 44,
   "metadata": {
    "collapsed": true
   },
   "outputs": [],
   "source": [
    "from sklearn.cluster import KMeans, MiniBatchKMeans\n"
   ]
  },
  {
   "cell_type": "markdown",
   "metadata": {},
   "source": [
    "Training the clustering algorithm with 5 clusters:"
   ]
  },
  {
   "cell_type": "code",
   "execution_count": 49,
   "metadata": {},
   "outputs": [
    {
     "data": {
      "text/plain": [
       "array([2, 0, 0, ..., 2, 0, 4])"
      ]
     },
     "execution_count": 49,
     "metadata": {},
     "output_type": "execute_result"
    }
   ],
   "source": [
    "kmeans = KMeans(5)\n",
    "clusters = kmeans.fit_predict(X)\n",
    "clusters"
   ]
  },
  {
   "cell_type": "markdown",
   "metadata": {},
   "source": [
    "Cluster distibution:"
   ]
  },
  {
   "cell_type": "code",
   "execution_count": 50,
   "metadata": {},
   "outputs": [
    {
     "data": {
      "text/plain": [
       "array([1218,  251,  309,  382,  637], dtype=int64)"
      ]
     },
     "execution_count": 50,
     "metadata": {},
     "output_type": "execute_result"
    }
   ],
   "source": [
    "np.bincount(clusters)"
   ]
  },
  {
   "cell_type": "markdown",
   "metadata": {},
   "source": [
    "Plotting the histogram:"
   ]
  },
  {
   "cell_type": "code",
   "execution_count": 51,
   "metadata": {},
   "outputs": [
    {
     "data": {
      "text/plain": [
       "(array([ 1218.,     0.,   251.,     0.,     0.,   309.,     0.,   382.,\n",
       "            0.,   637.]),\n",
       " array([ 0. ,  0.4,  0.8,  1.2,  1.6,  2. ,  2.4,  2.8,  3.2,  3.6,  4. ]),\n",
       " <a list of 10 Patch objects>)"
      ]
     },
     "execution_count": 51,
     "metadata": {},
     "output_type": "execute_result"
    },
    {
     "data": {
      "image/png": "[encoded data removed]",
      "text/plain": [
       "<matplotlib.figure.Figure at 0x224de16c438>"
      ]
     },
     "metadata": {},
     "output_type": "display_data"
    }
   ],
   "source": [
    "import matplotlib\n",
    "import matplotlib.pyplot as plt\n",
    "%matplotlib inline\n",
    "\n",
    "plt.hist(clusters)"
   ]
  },
  {
   "cell_type": "markdown",
   "metadata": {},
   "source": [
    "Printing the inertia:"
   ]
  },
  {
   "cell_type": "code",
   "execution_count": 52,
   "metadata": {},
   "outputs": [
    {
     "data": {
      "text/plain": [
       "2631.8705485464425"
      ]
     },
     "execution_count": 52,
     "metadata": {},
     "output_type": "execute_result"
    }
   ],
   "source": [
    "kmeans.inertia_"
   ]
  },
  {
   "cell_type": "markdown",
   "metadata": {},
   "source": [
    "Printing centeriods:"
   ]
  },
  {
   "cell_type": "code",
   "execution_count": 53,
   "metadata": {},
   "outputs": [
    {
     "name": "stdout",
     "output_type": "stream",
     "text": [
      "(5, 6497)\n"
     ]
    },
    {
     "data": {
      "text/plain": [
       "array([[  2.20727394e-03,   1.48552268e-03,   9.46490191e-04, ...,\n",
       "          8.30750153e-04,   1.64819642e-04,   0.00000000e+00],\n",
       "       [  5.38122980e-03,   5.80416438e-03,   2.18114455e-03, ...,\n",
       "          2.26492692e-03,   0.00000000e+00,   1.07266517e-03],\n",
       "       [  4.49354493e-03,   7.57225681e-03,   0.00000000e+00, ...,\n",
       "          4.58327405e-04,   7.88393284e-04,   0.00000000e+00],\n",
       "       [  2.55039997e-03,   8.49210698e-04,   1.19264357e-03, ...,\n",
       "          2.37607869e-04,   6.22068144e-03,   9.89259443e-06],\n",
       "       [  4.76113167e-04,   8.26563997e-03,   4.15135417e-04, ...,\n",
       "          5.44362441e-04,   6.17527292e-04,   1.79702955e-04]])"
      ]
     },
     "execution_count": 53,
     "metadata": {},
     "output_type": "execute_result"
    }
   ],
   "source": [
    "print(kmeans.cluster_centers_.shape)\n",
    "kmeans.cluster_centers_"
   ]
  },
  {
   "cell_type": "markdown",
   "metadata": {},
   "source": [
    "### Finding best number of clusters with elbow method:\n",
    "\n",
    "Finding inertia for different number of clusters:"
   ]
  },
  {
   "cell_type": "code",
   "execution_count": 54,
   "metadata": {},
   "outputs": [
    {
     "name": "stdout",
     "output_type": "stream",
     "text": [
      "(2797, 1769)\n",
      "[2620.1028645789, 2606.8109365431033, 2594.564915465344, 2582.3768544976547, 2571.986292445937, 2566.939479622204, 2557.417362207412, 2552.089789368247, 2544.335955056231, 2537.7724722152775, 2537.560456979149, 2531.218466952859, 2524.3609271695536]\n"
     ]
    }
   ],
   "source": [
    "inertia = []\n",
    "\n",
    "vect = TfidfVectorizer(min_df = 20, stop_words = 'english')\n",
    "X = vect.fit_transform(data)\n",
    "print(X.shape)\n",
    "\n",
    "for i in range(2, 15):\n",
    "    kmeans = KMeans(i)\n",
    "    kmeans.fit_predict(X)\n",
    "    inertia.append(kmeans.inertia_)\n",
    "    \n",
    "print(inertia)"
   ]
  },
  {
   "cell_type": "markdown",
   "metadata": {},
   "source": [
    "Plotting the result:"
   ]
  },
  {
   "cell_type": "code",
   "execution_count": 56,
   "metadata": {},
   "outputs": [
    {
     "data": {
      "text/plain": [
       "[<matplotlib.lines.Line2D at 0x21f8108e3c8>]"
      ]
     },
     "execution_count": 56,
     "metadata": {},
     "output_type": "execute_result"
    },
    {
     "data": {
      "image/png": "[encoded data removed]",
      "text/plain": [
       "<matplotlib.figure.Figure at 0x21f8107ea58>"
      ]
     },
     "metadata": {},
     "output_type": "display_data"
    }
   ],
   "source": [
    "%matplotlib inline\n",
    "\n",
    "plt.plot(range(2, 15), inertia)"
   ]
  },
  {
   "cell_type": "markdown",
   "metadata": {},
   "source": [
    "## Clustering in low dimension:"
   ]
  },
  {
   "cell_type": "code",
   "execution_count": 57,
   "metadata": {},
   "outputs": [
    {
     "data": {
      "text/plain": [
       "array([1403,  176,  292,  588,  338], dtype=int64)"
      ]
     },
     "execution_count": 57,
     "metadata": {},
     "output_type": "execute_result"
    }
   ],
   "source": [
    "vect = TfidfVectorizer(min_df = 3, stop_words = 'english')\n",
    "X = vect.fit_transform(data)\n",
    "\n",
    "lsa = TruncatedSVD(100)\n",
    "Z = lsa.fit_transform(X)\n",
    "\n",
    "kmeans = KMeans(5)\n",
    "clusters = kmeans.fit_predict(Z)\n",
    "\n",
    "np.bincount(clusters)"
   ]
  },
  {
   "cell_type": "code",
   "execution_count": 58,
   "metadata": {},
   "outputs": [
    {
     "data": {
      "text/plain": [
       "(array([ 1403.,     0.,   176.,     0.,     0.,   292.,     0.,   588.,\n",
       "            0.,   338.]),\n",
       " array([ 0. ,  0.4,  0.8,  1.2,  1.6,  2. ,  2.4,  2.8,  3.2,  3.6,  4. ]),\n",
       " <a list of 10 Patch objects>)"
      ]
     },
     "execution_count": 58,
     "metadata": {},
     "output_type": "execute_result"
    },
    {
     "data": {
      "image/png": "[encoded data removed]",
      "text/plain": [
       "<matplotlib.figure.Figure at 0x224d3f2f518>"
      ]
     },
     "metadata": {},
     "output_type": "display_data"
    }
   ],
   "source": [
    "%matplotlib inline\n",
    "\n",
    "plt.hist(clusters)"
   ]
  },
  {
   "cell_type": "markdown",
   "metadata": {},
   "source": [
    "Clustering with different number of clusters:"
   ]
  },
  {
   "cell_type": "code",
   "execution_count": 59,
   "metadata": {},
   "outputs": [
    {
     "name": "stdout",
     "output_type": "stream",
     "text": [
      "[439.76736815249291, 432.11643036648985, 423.70501034930425, 416.90717593074311, 409.35559494144752, 405.35149152431677, 403.38897098814874, 396.0809111448342, 393.20391021485347, 386.88196327890296, 384.38812025026084, 381.22776478776723, 375.43219573806596, 373.5300545430037, 370.15046435872853, 367.4030997996004, 364.11885641128356, 360.8347920181489, 358.88974014837953, 355.38589171607089, 352.97801709926415, 350.7083340470225, 347.23761127181308, 343.35538473557341, 341.42409146969317, 338.01346743464427, 337.22214522539207, 333.80853225307339]\n"
     ]
    }
   ],
   "source": [
    "inertia = []\n",
    "for i in range(2, 30):\n",
    "    kmeans = KMeans(i, n_jobs = 4)\n",
    "    kmeans.fit_predict(Z)\n",
    "    inertia.append(kmeans.inertia_)\n",
    "    \n",
    "print(inertia)"
   ]
  },
  {
   "cell_type": "markdown",
   "metadata": {},
   "source": [
    "Creating a plot and estimating best number of clusters"
   ]
  },
  {
   "cell_type": "code",
   "execution_count": 60,
   "metadata": {},
   "outputs": [
    {
     "data": {
      "text/plain": [
       "[<matplotlib.lines.Line2D at 0x224d409fc18>]"
      ]
     },
     "execution_count": 60,
     "metadata": {},
     "output_type": "execute_result"
    },
    {
     "data": {
      "image/png": "[encoded data removed]",
      "text/plain": [
       "<matplotlib.figure.Figure at 0x224de24ec50>"
      ]
     },
     "metadata": {},
     "output_type": "display_data"
    }
   ],
   "source": [
    "%matplotlib inline\n",
    "\n",
    "plt.plot(range(2, 30), inertia)"
   ]
  },
  {
   "cell_type": "markdown",
   "metadata": {},
   "source": [
    "Word clustering:"
   ]
  },
  {
   "cell_type": "code",
   "execution_count": 70,
   "metadata": {},
   "outputs": [
    {
     "data": {
      "text/plain": [
       "(2797, 200)"
      ]
     },
     "execution_count": 70,
     "metadata": {},
     "output_type": "execute_result"
    }
   ],
   "source": [
    "lsa = TruncatedSVD(200)\n",
    "Z = lsa.fit_transform(X)\n",
    "Z.shape"
   ]
  },
  {
   "cell_type": "code",
   "execution_count": 71,
   "metadata": {},
   "outputs": [
    {
     "data": {
      "text/plain": [
       "(200, 9991)"
      ]
     },
     "execution_count": 71,
     "metadata": {},
     "output_type": "execute_result"
    }
   ],
   "source": [
    "lsa.components_.shape"
   ]
  },
  {
   "cell_type": "code",
   "execution_count": 72,
   "metadata": {},
   "outputs": [
    {
     "data": {
      "text/plain": [
       "array([  77,   17,   34, 9859,    4], dtype=int64)"
      ]
     },
     "execution_count": 72,
     "metadata": {},
     "output_type": "execute_result"
    }
   ],
   "source": [
    "kmeans = KMeans(5)\n",
    "\n",
    "WordClustering = kmeans.fit_predict(lsa.components_.T)\n",
    "np.bincount(WordClustering)"
   ]
  },
  {
   "cell_type": "code",
   "execution_count": 68,
   "metadata": {},
   "outputs": [
    {
     "data": {
      "text/plain": [
       "array([9822,   16,  147,    5,    1], dtype=int64)"
      ]
     },
     "execution_count": 68,
     "metadata": {},
     "output_type": "execute_result"
    }
   ],
   "source": []
  },
  {
   "cell_type": "code",
   "execution_count": null,
   "metadata": {
    "collapsed": true
   },
   "outputs": [],
   "source": []
  }
 ],
 "metadata": {
  "kernelspec": {
   "display_name": "Python 3",
   "language": "python",
   "name": "python3"
  },
  "language_info": {
   "codemirror_mode": {
    "name": "ipython",
    "version": 3
   },
   "file_extension": ".py",
   "mimetype": "text/x-python",
   "name": "python",
   "nbconvert_exporter": "python",
   "pygments_lexer": "ipython3",
   "version": "3.6.3"
  }
 },
 "nbformat": 4,
 "nbformat_minor": 2
}
